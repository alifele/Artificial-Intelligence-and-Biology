{
 "cells": [
  {
   "cell_type": "markdown",
   "metadata": {},
   "source": [
    "# A little bit about the Problem\n",
    "\n",
    "\n",
    "Some times, specially when dealing with genetic algorithms, you may have a list with some items in it that you want to pick one out of it. the challange arises when it turns out that the elemtents of the list each has a socre and you should pick each element according to its score. What I mean is that, suppose that we have two elents in the mentioned list named 'banan' and 'orange'. banan has socre 4 and orange has score 2. so you should pick the element in the list so that the frequency of selecting banan out of list is twice the frequency of selecting orange. \n",
    "\n",
    "in the following artice I will propose an algorithm that can do the job for you.\n",
    "\n",
    "\n"
   ]
  },
  {
   "cell_type": "markdown",
   "metadata": {},
   "source": [
    "# A little bit about the algorithm\n",
    "\n",
    "the algorithm to solve this problem is way simple than thought.\n",
    "\n",
    "the idea comes from a ribbon that is devided to segments, each have area proportional to the score of the element."
   ]
  },
  {
   "cell_type": "code",
   "execution_count": 150,
   "metadata": {},
   "outputs": [
    {
     "data": {
      "text/plain": [
       "<matplotlib.collections.PathCollection at 0x7f535e4030d0>"
      ]
     },
     "execution_count": 150,
     "metadata": {},
     "output_type": "execute_result"
    },
    {
     "data": {
      "image/png": "[encoded data removed]",
      "text/plain": [
       "<Figure size 432x288 with 1 Axes>"
      ]
     },
     "metadata": {
      "needs_background": "light"
     },
     "output_type": "display_data"
    }
   ],
   "source": [
    "plt.xlim(-1,10)\n",
    "plt.ylim(0,1)\n",
    "plt.axhline(0.5, lw=40, xmin=1/10, xmax = 5/10, c='red')\n",
    "plt.axhline(0.5, lw=40, xmin=5/10, xmax = 6/10, c='green')\n",
    "plt.axhline(0.5, lw=40, xmin=6/10, xmax = 6.5/10, c='yellow')\n",
    "plt.axhline(0.5, lw=40, xmin=6.5/10, xmax = 7.5/10, c='gray')\n",
    "plt.axhline(0.5, lw=40, xmin=7.5/10, xmax = 9/10, c='purple')\n",
    "\n",
    "\n",
    "#plt.axhline(0.5, lw=20, xmin=1)\n",
    "plt.scatter([2],[3])\n"
   ]
  },
  {
   "cell_type": "markdown",
   "metadata": {},
   "source": [
    "So to make this implementation possible, you need to take track of the accumulative amounts of the normalized scores. Consider the following example:\n",
    "fruits = [a,b,c,d]\n",
    "\n",
    "scores = [0.5, 0.1, 0.3, 0.1]\n",
    "\n",
    "Now you should calculate the cummulative scores of each element :\n",
    "\n",
    "scores_cumm = [0.5, 0.6, 0.9, 1]\n",
    "\n",
    "You have almost done! Now generate a random number. the first elemnt of the above list that gets larger than the tossed number, its argument is the selected item!"
   ]
  },
  {
   "cell_type": "markdown",
   "metadata": {},
   "source": [
    "# The code implementation"
   ]
  },
  {
   "cell_type": "code",
   "execution_count": 114,
   "metadata": {},
   "outputs": [],
   "source": [
    "import numpy as np\n",
    "import matplotlib.pyplot as plt"
   ]
  },
  {
   "cell_type": "code",
   "execution_count": 83,
   "metadata": {},
   "outputs": [],
   "source": [
    "fruit_list = ['apple', 'watermelon', 'blueberry','banana', 'orange', 'mango']\n",
    "fruit_prob = [0.5, 0.15, 0.05, 0.1, 0.1, 0.1]"
   ]
  },
  {
   "cell_type": "code",
   "execution_count": 84,
   "metadata": {},
   "outputs": [],
   "source": [
    "cumm_prob = []\n",
    "cumm_prob.append(fruit_prob[0])\n",
    "for i in range(1,len(fruit_prob)):\n",
    "    cumm_prob.append(fruit_prob[i] + cumm_prob[-1])\n",
    "cumm_prob = np.array(cumm_prob)"
   ]
  },
  {
   "cell_type": "code",
   "execution_count": 85,
   "metadata": {},
   "outputs": [
    {
     "data": {
      "text/plain": [
       "array([0.5 , 0.65, 0.7 , 0.8 , 0.9 , 1.  ])"
      ]
     },
     "execution_count": 85,
     "metadata": {},
     "output_type": "execute_result"
    }
   ],
   "source": [
    "cumm_prob"
   ]
  },
  {
   "cell_type": "code",
   "execution_count": null,
   "metadata": {},
   "outputs": [],
   "source": []
  },
  {
   "cell_type": "code",
   "execution_count": 86,
   "metadata": {},
   "outputs": [],
   "source": [
    "select_list = []\n",
    "for i in range(1000):\n",
    "    rand = np.random.random()\n",
    "    select_list.append(np.argmax(cumm_prob > rand))"
   ]
  },
  {
   "cell_type": "code",
   "execution_count": 91,
   "metadata": {},
   "outputs": [
    {
     "data": {
      "image/png": "[encoded data removed]",
      "text/plain": [
       "<Figure size 432x288 with 1 Axes>"
      ]
     },
     "metadata": {
      "needs_background": "light"
     },
     "output_type": "display_data"
    }
   ],
   "source": [
    "fig, ax = plt.subplots()\n",
    "trash = ax.hist(select_list, bins=len(fruit_prob), align='mid',ec='k')\n"
   ]
  },
  {
   "cell_type": "code",
   "execution_count": null,
   "metadata": {},
   "outputs": [],
   "source": []
  },
  {
   "cell_type": "code",
   "execution_count": null,
   "metadata": {},
   "outputs": [],
   "source": []
  }
 ],
 "metadata": {
  "kernelspec": {
   "display_name": "Python 3",
   "language": "python",
   "name": "python3"
  },
  "language_info": {
   "codemirror_mode": {
    "name": "ipython",
    "version": 3
   },
   "file_extension": ".py",
   "mimetype": "text/x-python",
   "name": "python",
   "nbconvert_exporter": "python",
   "pygments_lexer": "ipython3",
   "version": "3.7.6"
  }
 },
 "nbformat": 4,
 "nbformat_minor": 2
}
