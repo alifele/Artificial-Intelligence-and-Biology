{
 "cells": [
  {
   "cell_type": "code",
   "execution_count": 1,
   "metadata": {},
   "outputs": [],
   "source": [
    "import numpy as np\n",
    "import matplotlib.pyplot as plt"
   ]
  },
  {
   "cell_type": "code",
   "execution_count": 9,
   "metadata": {},
   "outputs": [],
   "source": [
    "class Neural_Network():\n",
    "    def __init__(self, input_shape, hidden_shape, output_shape):\n",
    "        self.input_shape = input_shape\n",
    "        self.output_shape = output_shape\n",
    "        self.hidden_shape = hidden_shape\n",
    "        self.n_layers = len(hidden_shape) + 2\n",
    "        \n",
    "        self.w_list = self.Compile(input_shape, hidden_shape, output_shape)\n",
    "        self.cost_list = []\n",
    "        \n",
    "    #### High Level Funcitons ####\n",
    "    '''\n",
    "    \n",
    "    def fit(self,X,Y, alpha=0.001, epochs = 10, batch_size = 10):\n",
    "        \n",
    "        for epo in range(epochs):\n",
    "            \n",
    "            for instance in zip(X,Y):\n",
    "                x = instance[0]\n",
    "                y = instance[1]\n",
    "                all_layers_info = self.feedforward(self.w_list, x)\n",
    "                all_layers_delta = self.all_layers_delta_calculator(all_layers_info, y, self.n_layers)\n",
    "                all_layres_Grad = self.all_layers_E_Grad(self.n_layers, all_layers_delta, all_layers_info)\n",
    "                self.w_list = self.update_w_list(self.w_list, all_layers_Grad, alpha)\n",
    "            \n",
    "            self.cost_list.append(self.cost(self.predict([x]), y))\n",
    "            \n",
    "    '''\n",
    "    \n",
    "    def fit(self,X,Y, alpha=0.001, epochs = 10, batch_size = 10):\n",
    "        for epo in range(epochs):\n",
    "            \n",
    "            i=0\n",
    "            while ((i+1)*batch_size<=len(X)):\n",
    "\n",
    "                X_B = X[(i)*batch_size:(i+1)*batch_size]\n",
    "                Y_B = Y[(i)*batch_size:(i+1)*batch_size]\n",
    "                all_layers_delta_sum = 0\n",
    "\n",
    "                for instance in zip(X_B,Y_B):\n",
    "                    x = instance[0]\n",
    "                    y = instance[1]\n",
    "                    all_layers_info = self.feedforward(self.w_list, x)\n",
    "                    all_layers_delta = self.all_layers_delta_calculator(all_layers_info, y, self.n_layers, self.w_list)\n",
    "                    all_layers_delta_sum += np.array(all_layers_delta)\n",
    "\n",
    "                all_layers_delta_sum /= batch_size\n",
    "                all_layers_Grad = self.all_layers_E_Grad(x, self.n_layers, all_layers_delta, all_layers_info)\n",
    "                self.w_list = self.update_w_list(self.w_list, all_layers_Grad, alpha)\n",
    "    \n",
    "                i+=1\n",
    "        \n",
    "                self.cost_list.append(self.cost(self.predict([x]), y))\n",
    "\n",
    "                \n",
    "        \n",
    "            \n",
    "        \n",
    "    \n",
    "    def predict(self, X):\n",
    "        predict_list = []\n",
    "        for elem in X:\n",
    "            x = elem\n",
    "            result = self.feedforward(self.w_list, x)[-1]\n",
    "            predict_list.append(result)\n",
    "        \n",
    "        return np.array(predict_list)\n",
    "        \n",
    "        \n",
    "    #### Low Level Functions ####\n",
    "    \n",
    "    def cost(self, predict, y):\n",
    "        return 0.5*np.sum((predict - y)**2)\n",
    "    \n",
    "    def feedforward(self,w_list, x):\n",
    "        pre_activated = x\n",
    "        raw_list = []\n",
    "        activated_list = []\n",
    "        for w in w_list[:-1]:\n",
    "            current_raw = self.WxX(w,pre_activated)\n",
    "            current_activated = self.sig(current_raw)\n",
    "\n",
    "            raw_list.append(current_raw)\n",
    "            activated_list.append(current_activated)\n",
    "\n",
    "            pre_activated = current_activated\n",
    "\n",
    "        predict_raw = self.WxX(w_list[-1], activated_list[-1])\n",
    "        predict_activated = self.output_layer_activator(predict_raw)\n",
    "\n",
    "        raw_list.append(predict_raw)\n",
    "        activated_list.append(predict_activated)\n",
    "\n",
    "        return raw_list, activated_list, predict_raw\n",
    "    \n",
    "    \n",
    "    def Compile(self, input_shape, hidden_shape, output_shape):\n",
    "        w_shapes = self.w_shaper(input_shape, hidden_shape, output_shape)\n",
    "        w_list = self.init_w_list(w_shapes)\n",
    "        return w_list\n",
    "    \n",
    "    def init_w_list(self,w_shapes):\n",
    "        w_list = []\n",
    "        for w in w_shapes:\n",
    "            w_list.append(np.random.random((w[0], w[1]+1)))\n",
    "        return w_list\n",
    "    \n",
    "    \n",
    "    def w_shaper(self, input_shape, hidden_shape, output_shape):\n",
    "        all_shapes = [input_shape] + hidden_shape + [output_shape]\n",
    "        w_shapes = []\n",
    "        for elem in zip(all_shapes[1:], all_shapes[:-1]):\n",
    "            w_shapes.append(elem)\n",
    "        return w_shapes\n",
    "    \n",
    "    def WxX(self, w,x):\n",
    "        result = w @ self.one_adder(x).reshape((-1,1))\n",
    "        result = result.reshape(-1)\n",
    "        return result\n",
    "    \n",
    "    def one_adder(self, x):\n",
    "        return np.array([1] + x.tolist())\n",
    "        \n",
    "    def sig(self, x):\n",
    "        return 1/(1 + np.exp(-x))\n",
    "    \n",
    "    def output_layer_activator(self, x):\n",
    "        return x\n",
    "    \n",
    "    def d_sig(self,x):\n",
    "        return self.sig(x) * (1-self.sig(x))\n",
    "    \n",
    "    #### Delta #####\n",
    "    \n",
    "    def output_layer_delta(self, all_layers_info,y):\n",
    "        \n",
    "        delta = (all_layers_info[-1] - y) * self.output_layer_activation_der(all_layers_info[0][-1]) \n",
    "        return delta\n",
    "    \n",
    "    def output_layer_activation_der(self, x):\n",
    "        return 1\n",
    "    \n",
    "    def Wxdelta(self, w, delta):\n",
    "        result = np.delete(w,0,axis=1).T @ delta.reshape((-1,1)) \n",
    "        return result.reshape(-1)\n",
    "    \n",
    "    def delta_calculator(self, layer,delta_list, w_list, all_layers_info):\n",
    "        result = self.Wxdelta(w_list[layer+1], delta_list[layer+1])\n",
    "        result = result.reshape((-1,1)) * self.d_sig(all_layers_info[0][layer]).reshape((-1,1))\n",
    "        return result\n",
    "    \n",
    "    def all_layers_delta_calculator(self, all_layers_info, y, n_layers, w_list):\n",
    "        \n",
    "        delta_list = [i for i in range(n_layers-1)]\n",
    "        next_layer_delta = self.output_layer_delta(all_layers_info, y)\n",
    "        delta_list[-1] = next_layer_delta\n",
    "\n",
    "        for i in range(n_layers-3,-1,-1): # 3,2,1,0\n",
    "            current_delta = self.delta_calculator(i, delta_list, w_list,all_layers_info)\n",
    "            delta_list[i] = current_delta.reshape(-1)\n",
    "\n",
    "        return delta_list\n",
    "    \n",
    "    def Grad_E_layer(self, layer,x , all_layers_delta, all_layers_info):\n",
    "        if layer > 0:\n",
    "            return all_layers_delta[layer].reshape((-1,1)) @ self.one_adder(all_layers_info[1][layer-1]).reshape((1,-1))\n",
    "\n",
    "        else:\n",
    "            return all_layers_delta[layer].reshape((-1,1)) @ self.one_adder(x).reshape((1,-1))\n",
    "\n",
    "        \n",
    "    def all_layers_E_Grad(self, x,n_layers, all_layers_delta, all_layers_info):\n",
    "        Grad_E_list = []\n",
    "        for i in range(n_layers-1): # 0,1,2,3,4  n_layers = 6\n",
    "            Grad_E_list.append(self.Grad_E_layer(i,x,all_layers_delta, all_layers_info))\n",
    "\n",
    "        return Grad_E_list\n",
    "    \n",
    "    def update_w_list(self, w_list, all_layers_Grad, alpha=0.001):\n",
    "        new = np.array(w_list) - alpha * np.array(all_layers_Grad)\n",
    "        return new\n",
    "    "
   ]
  },
  {
   "cell_type": "markdown",
   "metadata": {},
   "source": [
    "## Test on a Simple Dataset"
   ]
  },
  {
   "cell_type": "code",
   "execution_count": 10,
   "metadata": {},
   "outputs": [],
   "source": [
    "input_shape = 5\n",
    "hidden_shape = [4,2,4,3]\n",
    "output_shape = 2\n"
   ]
  },
  {
   "cell_type": "code",
   "execution_count": 11,
   "metadata": {},
   "outputs": [],
   "source": [
    "X = np.array([[3,2,4,1,2],[1,2,3,4,1],[5,4,4,3,1],[4,5,6,3,1],[-1,4,0,4,1]])\n",
    "Y = np.array([[4,0],[4,1],[5,1],[6,1],[-1,1]])"
   ]
  },
  {
   "cell_type": "code",
   "execution_count": 12,
   "metadata": {},
   "outputs": [],
   "source": [
    "model = Neural_Network(input_shape, hidden_shape, output_shape)"
   ]
  },
  {
   "cell_type": "code",
   "execution_count": 17,
   "metadata": {},
   "outputs": [],
   "source": [
    "model.fit(X,Y,epochs=1000, batch_size=3, alpha=0.0002)\n"
   ]
  },
  {
   "cell_type": "code",
   "execution_count": 19,
   "metadata": {},
   "outputs": [
    {
     "data": {
      "text/plain": [
       "Text(0.5, 0, 'Epochs')"
      ]
     },
     "execution_count": 19,
     "metadata": {},
     "output_type": "execute_result"
    },
    {
     "data": {
      "image/png": "[encoded data removed]",
      "text/plain": [
       "<Figure size 864x360 with 1 Axes>"
      ]
     },
     "metadata": {
      "needs_background": "light"
     },
     "output_type": "display_data"
    }
   ],
   "source": [
    "plt.figure(figsize=(12,5))\n",
    "plt.plot(model.cost_list,'--',lw=5,)\n",
    "plt.grid('on')\n",
    "plt.title('learning curve',size=20)\n",
    "plt.ylabel('Error',size=13)\n",
    "plt.xlabel('Epochs',size=13)"
   ]
  },
  {
   "cell_type": "code",
   "execution_count": null,
   "metadata": {},
   "outputs": [],
   "source": []
  },
  {
   "cell_type": "code",
   "execution_count": null,
   "metadata": {},
   "outputs": [],
   "source": []
  },
  {
   "cell_type": "code",
   "execution_count": 149,
   "metadata": {},
   "outputs": [],
   "source": []
  },
  {
   "cell_type": "code",
   "execution_count": null,
   "metadata": {},
   "outputs": [],
   "source": []
  },
  {
   "cell_type": "code",
   "execution_count": 181,
   "metadata": {},
   "outputs": [],
   "source": []
  },
  {
   "cell_type": "code",
   "execution_count": null,
   "metadata": {},
   "outputs": [],
   "source": []
  },
  {
   "cell_type": "code",
   "execution_count": null,
   "metadata": {},
   "outputs": [],
   "source": []
  },
  {
   "cell_type": "code",
   "execution_count": null,
   "metadata": {},
   "outputs": [],
   "source": []
  },
  {
   "cell_type": "code",
   "execution_count": 59,
   "metadata": {},
   "outputs": [],
   "source": []
  },
  {
   "cell_type": "code",
   "execution_count": 60,
   "metadata": {},
   "outputs": [],
   "source": []
  },
  {
   "cell_type": "code",
   "execution_count": 246,
   "metadata": {},
   "outputs": [],
   "source": []
  },
  {
   "cell_type": "code",
   "execution_count": null,
   "metadata": {},
   "outputs": [],
   "source": []
  },
  {
   "cell_type": "code",
   "execution_count": null,
   "metadata": {
    "scrolled": false
   },
   "outputs": [],
   "source": []
  },
  {
   "cell_type": "code",
   "execution_count": null,
   "metadata": {},
   "outputs": [],
   "source": []
  },
  {
   "cell_type": "code",
   "execution_count": null,
   "metadata": {},
   "outputs": [],
   "source": []
  },
  {
   "cell_type": "code",
   "execution_count": 274,
   "metadata": {},
   "outputs": [],
   "source": []
  },
  {
   "cell_type": "code",
   "execution_count": null,
   "metadata": {},
   "outputs": [],
   "source": []
  },
  {
   "cell_type": "code",
   "execution_count": null,
   "metadata": {},
   "outputs": [],
   "source": []
  },
  {
   "cell_type": "code",
   "execution_count": 160,
   "metadata": {},
   "outputs": [],
   "source": []
  },
  {
   "cell_type": "code",
   "execution_count": null,
   "metadata": {},
   "outputs": [],
   "source": []
  },
  {
   "cell_type": "code",
   "execution_count": null,
   "metadata": {},
   "outputs": [],
   "source": []
  },
  {
   "cell_type": "code",
   "execution_count": null,
   "metadata": {},
   "outputs": [],
   "source": []
  },
  {
   "cell_type": "code",
   "execution_count": null,
   "metadata": {},
   "outputs": [],
   "source": [
    "\n"
   ]
  },
  {
   "cell_type": "code",
   "execution_count": 608,
   "metadata": {},
   "outputs": [
    {
     "name": "stdout",
     "output_type": "stream",
     "text": [
      "hey\n"
     ]
    }
   ],
   "source": [
    "p=0\n",
    "while(p<1):\n",
    "    print('hey')\n",
    "    p += 1"
   ]
  },
  {
   "cell_type": "code",
   "execution_count": null,
   "metadata": {},
   "outputs": [],
   "source": []
  }
 ],
 "metadata": {
  "kernelspec": {
   "display_name": "Python 3",
   "language": "python",
   "name": "python3"
  },
  "language_info": {
   "codemirror_mode": {
    "name": "ipython",
    "version": 3
   },
   "file_extension": ".py",
   "mimetype": "text/x-python",
   "name": "python",
   "nbconvert_exporter": "python",
   "pygments_lexer": "ipython3",
   "version": "3.7.6"
  }
 },
 "nbformat": 4,
 "nbformat_minor": 2
}
