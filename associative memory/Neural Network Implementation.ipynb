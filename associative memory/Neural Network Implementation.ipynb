{
 "cells": [
  {
   "cell_type": "code",
   "execution_count": 1,
   "metadata": {},
   "outputs": [],
   "source": [
    "import numpy as np\n",
    "import matplotlib.pyplot as plt"
   ]
  },
  {
   "cell_type": "code",
   "execution_count": 236,
   "metadata": {},
   "outputs": [],
   "source": [
    "class Neural_Network():\n",
    "    \n",
    "    def __init__(self):\n",
    "        pass\n",
    "        \n",
    "        \n",
    "    def compile(self, input_shape, output_shape, hidden_shape=[4]):\n",
    "        w_list, b_list = self.init_w_b_matrices(input_shape, output_shape, hidden_shape)\n",
    "        return w_list, b_list\n",
    "        \n",
    "        \n",
    "    \n",
    "    def feedforward(self,w_list, b_list, x):\n",
    "        hidden_values = []\n",
    "        pre_hidden = x.copy()\n",
    "        for i in range(len(hidden_shape)):\n",
    "            next_hidden =self.sigmiod(w_list[i] @ pre_hidden + b_list[i])\n",
    "            hidden_values.append(next_hidden)\n",
    "            pre_hidden = next_hidden.copy()\n",
    "        output_value = w_list[-1] @ hidden_values[-1]\n",
    "        return output_value\n",
    "            \n",
    "            \n",
    "    def init_w_b_matrices(self,input_shape, output_shape, hidden_shape):\n",
    "        w_list = []\n",
    "        w_shapes = []\n",
    "        b_list = []\n",
    "        w_shapes.append((hidden_layers[0],input_shape))\n",
    "        for i in range(len(hidden_shape)-1):\n",
    "            w_shapes.append((hidden_shape[i+1], hidden_shape[i]))\n",
    "        w_shapes.append((output_shape,hidden_shape[-1]))\n",
    "        for i in range(len(w_shapes)):\n",
    "            w = np.random.random((w_shapes[i][0], w_shapes[i][1]))\n",
    "            w_list.append(w)\n",
    "\n",
    "        for i in range(len(w_shapes)):\n",
    "            b_list.append( np.random.random(w_shapes[i][0]))\n",
    "        return w_list, b_list\n",
    "        \n",
    "        \n",
    "    def sigmoid(self,x):\n",
    "        return 1/(1+ np.exp(-x))\n",
    "    \n",
    "    def MSE(self, y, y_pred):\n",
    "        error = ((y - y_pred) **2).sum()\n",
    "        return error\n",
    "    \n",
    "    "
   ]
  },
  {
   "cell_type": "code",
   "execution_count": 151,
   "metadata": {},
   "outputs": [],
   "source": []
  },
  {
   "cell_type": "code",
   "execution_count": 152,
   "metadata": {},
   "outputs": [],
   "source": [
    "model = Neural_Network()\n",
    "w_list, b_list = model.compile(3,1,[4,3,2])"
   ]
  },
  {
   "cell_type": "code",
   "execution_count": 226,
   "metadata": {},
   "outputs": [],
   "source": [
    "input_shape = 3\n",
    "output_shape = 4\n",
    "hidden_shape = [4,3,2]"
   ]
  },
  {
   "cell_type": "code",
   "execution_count": 227,
   "metadata": {},
   "outputs": [],
   "source": [
    "x = np.array([1,2,3])\n",
    "y = np.array([2,3,3,1])"
   ]
  },
  {
   "cell_type": "code",
   "execution_count": 228,
   "metadata": {},
   "outputs": [],
   "source": [
    "w_list, b_list = init_w_b_matrices(input_shape, output_shape, hidden_shape)\n"
   ]
  },
  {
   "cell_type": "code",
   "execution_count": 237,
   "metadata": {},
   "outputs": [
    {
     "data": {
      "text/plain": [
       "array([16.55995473, 15.12568804, 17.7236695 , 15.7864131 ])"
      ]
     },
     "execution_count": 237,
     "metadata": {},
     "output_type": "execute_result"
    }
   ],
   "source": [
    "y_pred = feedforward(w_list, b_list,x)\n",
    "y_pred"
   ]
  },
  {
   "cell_type": "code",
   "execution_count": 238,
   "metadata": {},
   "outputs": [
    {
     "data": {
      "text/plain": [
       "794.4490481258937"
      ]
     },
     "execution_count": 238,
     "metadata": {},
     "output_type": "execute_result"
    }
   ],
   "source": [
    "MSE(y, y_pred)"
   ]
  },
  {
   "cell_type": "code",
   "execution_count": 234,
   "metadata": {},
   "outputs": [],
   "source": []
  },
  {
   "cell_type": "code",
   "execution_count": null,
   "metadata": {},
   "outputs": [],
   "source": []
  },
  {
   "cell_type": "code",
   "execution_count": null,
   "metadata": {},
   "outputs": [],
   "source": []
  },
  {
   "cell_type": "code",
   "execution_count": null,
   "metadata": {},
   "outputs": [],
   "source": []
  },
  {
   "cell_type": "code",
   "execution_count": null,
   "metadata": {},
   "outputs": [],
   "source": []
  },
  {
   "cell_type": "code",
   "execution_count": null,
   "metadata": {},
   "outputs": [],
   "source": []
  },
  {
   "cell_type": "code",
   "execution_count": null,
   "metadata": {},
   "outputs": [],
   "source": []
  },
  {
   "cell_type": "code",
   "execution_count": null,
   "metadata": {},
   "outputs": [],
   "source": []
  },
  {
   "cell_type": "code",
   "execution_count": null,
   "metadata": {},
   "outputs": [],
   "source": []
  },
  {
   "cell_type": "code",
   "execution_count": 10,
   "metadata": {},
   "outputs": [],
   "source": []
  },
  {
   "cell_type": "code",
   "execution_count": 207,
   "metadata": {},
   "outputs": [],
   "source": [
    "def init_w_b_matrices(input_shape, output_shape, hidden_shape):\n",
    "    w_list = []\n",
    "    w_shapes = []\n",
    "    b_list = []\n",
    "\n",
    "    w_shapes.append((hidden_layers[0],input_shape))\n",
    "    for i in range(len(hidden_shape)-1):\n",
    "        w_shapes.append((hidden_shape[i+1], hidden_shape[i]))\n",
    "    w_shapes.append((output_shape,hidden_shape[-1]))\n",
    "\n",
    "    for i in range(len(w_shapes)):\n",
    "        w = np.random.random((w_shapes[i][0], w_shapes[i][1]))\n",
    "        w_list.append(w)\n",
    "\n",
    "    #self.w_shapes = w_shapes\n",
    "\n",
    "\n",
    "    for i in range(len(w_shapes)):\n",
    "        b_list.append( np.random.random(w_shapes[i][0]))\n",
    "\n",
    "    return w_list, b_list\n",
    "\n",
    "\n",
    "def sigmoid(x):\n",
    "    return 1/(1+ np.exp(-x))\n",
    "\n",
    "\n",
    "def compile(self, input_shape, output_shape, hidden_shape=[4]):\n",
    "        w_list, b_list = self.init_w_b_matrices(input_shape, output_shape, hidden_shape)\n",
    "        return w_list, b_list\n",
    "    \n",
    "    \n",
    "def feed_forward(self, w_list, b_list, x):\n",
    "        hidden_values = []\n",
    "        for i in range(len(hidden_shape)):\n",
    "            hidden = sigmoid(w_list[i] @ x + b_list[i])\n",
    "            hidden_values.append(hidden)\n",
    "        output_value = w[-1] @ hidden_values[-1]\n",
    "        \n",
    "        return hidden_values\n",
    "    \n",
    "def MSE(y, y_pred):\n",
    "    error = ((y - y_pred) **2).sum()\n",
    "    return error"
   ]
  },
  {
   "cell_type": "code",
   "execution_count": null,
   "metadata": {},
   "outputs": [],
   "source": []
  },
  {
   "cell_type": "code",
   "execution_count": null,
   "metadata": {},
   "outputs": [],
   "source": []
  }
 ],
 "metadata": {
  "kernelspec": {
   "display_name": "Python 3",
   "language": "python",
   "name": "python3"
  },
  "language_info": {
   "codemirror_mode": {
    "name": "ipython",
    "version": 3
   },
   "file_extension": ".py",
   "mimetype": "text/x-python",
   "name": "python",
   "nbconvert_exporter": "python",
   "pygments_lexer": "ipython3",
   "version": "3.7.6"
  }
 },
 "nbformat": 4,
 "nbformat_minor": 2
}
