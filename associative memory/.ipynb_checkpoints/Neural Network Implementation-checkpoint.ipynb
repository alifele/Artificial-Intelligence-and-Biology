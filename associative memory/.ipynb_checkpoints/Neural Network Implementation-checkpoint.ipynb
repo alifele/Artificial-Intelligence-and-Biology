{
 "cells": [
  {
   "cell_type": "code",
   "execution_count": 1,
   "metadata": {},
   "outputs": [],
   "source": [
    "import numpy as np\n",
    "import matplotlib.pyplot as plt"
   ]
  },
  {
   "cell_type": "code",
   "execution_count": 128,
   "metadata": {},
   "outputs": [],
   "source": [
    "class Neural_Network():\n",
    "    \n",
    "    def __init__(self):\n",
    "        pass\n",
    "        \n",
    "        \n",
    "    def compile(self, input_shape, output_shape, hidden_shape=[4]):\n",
    "        w_list, b_list = self.init_w_b_matrices(input_shape, output_shape, hidden_shape)\n",
    "        \n",
    "        \n",
    "        \n",
    "        \n",
    "            \n",
    "            \n",
    "    def init_w_b_matrices(self,input_shape, output_shape, hidden_shape):\n",
    "        w_list = []\n",
    "        w_shapes = []\n",
    "        b_list = []\n",
    "\n",
    "        w_shapes.append((hidden_layers[0],input_shape))\n",
    "        for i in range(len(hidden_shape)-1):\n",
    "            w_shapes.append((hidden_shape[i+1], hidden_shape[i]))\n",
    "        w_shapes.append((output_shape,hidden_shape[-1]))\n",
    "\n",
    "        for i in range(len(w_shapes)):\n",
    "            w = np.random.random((w_shapes[i][0], w_shapes[i][1]))\n",
    "            w_list.append(w)\n",
    "        \n",
    "        self.w_shapes = w_shapes\n",
    "        \n",
    "        \n",
    "        for i in range(len(w_shapes)):\n",
    "            b_list.append( np.random.random(w_shapes[i][0]))\n",
    "            \n",
    "        return w_list, b_list\n",
    "        \n",
    "        \n",
    "    def sigmoid(self,x):\n",
    "        return 1/(1+ np.exp(-x))"
   ]
  },
  {
   "cell_type": "code",
   "execution_count": 129,
   "metadata": {},
   "outputs": [],
   "source": [
    "model = Neural_Network()\n",
    "model.compile(3,1,[4])"
   ]
  },
  {
   "cell_type": "code",
   "execution_count": null,
   "metadata": {},
   "outputs": [],
   "source": []
  },
  {
   "cell_type": "code",
   "execution_count": null,
   "metadata": {},
   "outputs": [],
   "source": []
  },
  {
   "cell_type": "code",
   "execution_count": null,
   "metadata": {},
   "outputs": [],
   "source": []
  },
  {
   "cell_type": "code",
   "execution_count": 96,
   "metadata": {},
   "outputs": [],
   "source": [
    "input_shape = 3\n",
    "output_shape = 1\n",
    "hidden_shape = [4]"
   ]
  },
  {
   "cell_type": "code",
   "execution_count": 104,
   "metadata": {},
   "outputs": [],
   "source": [
    "w_list = []\n",
    "w_shapes = []\n",
    "\n",
    "w_shapes.append((hidden_layers[0],input_shape))\n",
    "for i in range(len(hidden_shape)-1):\n",
    "    w_shapes.append((hidden_shape[i+1], hidden_shape[i]))\n",
    "w_shapes.append((output_shape,hidden_shape[-1]))\n",
    "\n",
    "for i in range(len(w_shapes)):\n",
    "    w = np.random.random((w_shapes[i][0], w_shapes[i][1]))\n",
    "    w_list.append(w)\n"
   ]
  },
  {
   "cell_type": "code",
   "execution_count": 105,
   "metadata": {},
   "outputs": [
    {
     "data": {
      "text/plain": [
       "[(4, 3), (1, 4)]"
      ]
     },
     "execution_count": 105,
     "metadata": {},
     "output_type": "execute_result"
    }
   ],
   "source": [
    "w_shapes"
   ]
  },
  {
   "cell_type": "code",
   "execution_count": 106,
   "metadata": {},
   "outputs": [
    {
     "data": {
      "text/plain": [
       "[array([[0.96479459, 0.26486342, 0.7541966 ],\n",
       "        [0.87785227, 0.09615396, 0.04467905],\n",
       "        [0.49242819, 0.75149302, 0.28431852],\n",
       "        [0.07204064, 0.11039852, 0.77332796]]),\n",
       " array([[0.04897543, 0.97952444, 0.86315296, 0.53878566]])]"
      ]
     },
     "execution_count": 106,
     "metadata": {},
     "output_type": "execute_result"
    }
   ],
   "source": [
    "w_list"
   ]
  },
  {
   "cell_type": "code",
   "execution_count": 126,
   "metadata": {},
   "outputs": [],
   "source": [
    "b_list = []\n",
    "for i in range(len(w_shapes)):\n",
    "    b_list.append( np.random.random(w_shapes[i][0]))\n",
    "   "
   ]
  },
  {
   "cell_type": "code",
   "execution_count": 127,
   "metadata": {},
   "outputs": [
    {
     "data": {
      "text/plain": [
       "[array([0.37881936, 0.65691685, 0.10749958, 0.97999095]), array([0.20985546])]"
      ]
     },
     "execution_count": 127,
     "metadata": {},
     "output_type": "execute_result"
    }
   ],
   "source": [
    "b_list"
   ]
  },
  {
   "cell_type": "code",
   "execution_count": 125,
   "metadata": {},
   "outputs": [
    {
     "data": {
      "text/plain": [
       "array([3.80135033, 2.03836875, 3.81388387, 3.29956296])"
      ]
     },
     "execution_count": 125,
     "metadata": {},
     "output_type": "execute_result"
    }
   ],
   "source": [
    "a = w_list[0] @ x\n",
    "a + np.random.random(w_shapes[0][0])"
   ]
  },
  {
   "cell_type": "code",
   "execution_count": 118,
   "metadata": {},
   "outputs": [
    {
     "data": {
      "text/plain": [
       "array([0.7822787 , 0.60806276])"
      ]
     },
     "execution_count": 118,
     "metadata": {},
     "output_type": "execute_result"
    }
   ],
   "source": [
    "np.random.random()"
   ]
  },
  {
   "cell_type": "code",
   "execution_count": 124,
   "metadata": {},
   "outputs": [
    {
     "data": {
      "text/plain": [
       "4"
      ]
     },
     "execution_count": 124,
     "metadata": {},
     "output_type": "execute_result"
    }
   ],
   "source": [
    "w_shapes[0][0]"
   ]
  },
  {
   "cell_type": "code",
   "execution_count": null,
   "metadata": {},
   "outputs": [],
   "source": []
  },
  {
   "cell_type": "code",
   "execution_count": 10,
   "metadata": {},
   "outputs": [],
   "source": []
  },
  {
   "cell_type": "code",
   "execution_count": null,
   "metadata": {},
   "outputs": [],
   "source": []
  }
 ],
 "metadata": {
  "kernelspec": {
   "display_name": "Python 3",
   "language": "python",
   "name": "python3"
  },
  "language_info": {
   "codemirror_mode": {
    "name": "ipython",
    "version": 3
   },
   "file_extension": ".py",
   "mimetype": "text/x-python",
   "name": "python",
   "nbconvert_exporter": "python",
   "pygments_lexer": "ipython3",
   "version": "3.7.6"
  }
 },
 "nbformat": 4,
 "nbformat_minor": 2
}
