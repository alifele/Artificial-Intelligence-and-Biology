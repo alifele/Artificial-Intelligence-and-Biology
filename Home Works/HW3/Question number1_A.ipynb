{
 "cells": [
  {
   "cell_type": "code",
   "execution_count": 1,
   "metadata": {},
   "outputs": [],
   "source": [
    "import numpy as np\n",
    "import matplotlib.pyplot as plt"
   ]
  },
  {
   "cell_type": "markdown",
   "metadata": {},
   "source": [
    "## Architecture of the network\n",
    "\n",
    "\n",
    "The network that I am going to desing in order to get the appropriate outputs is like the following:\n",
    "\n",
    "input layer --> <font color='green'>three</font> inputs with out activation function\n",
    "\n",
    "hidden layers --> <font color='green'>one</font> hidden layer with <font color='green'>eight</font>  neurons in it. The activation function is set to be  <font color='green'> step funtion</font>\n",
    "\n",
    "output --> <font color='green'>one</font> output with <font color='green'>step function</font> as the activation function\n",
    "\n",
    "\n",
    "\n",
    "'<font color='purple'> Note that the threshold of the activation function is not necessarily zero</font>'"
   ]
  },
  {
   "cell_type": "code",
   "execution_count": 218,
   "metadata": {},
   "outputs": [],
   "source": [
    "class Neural_Network():\n",
    "    \n",
    "    def __init__(self, input_shpe, hidden_shape, output_shape , th):\n",
    "        self.input_shape = input_shape\n",
    "        self.output_shape = output_shape\n",
    "        self.hidden_shape = hidden_shape\n",
    "        self.th = th\n",
    "        \n",
    "        self.w_list = self.Compile(input_shape, hidden_shape, output_shape)\n",
    "        \n",
    "        \n",
    "    #### High Level Functions ####\n",
    "    \n",
    "    def Compile(self,input_shape, hidden_shape, output_shape):\n",
    "        w_shapes = self.w_shape_build(input_shape, hidden_shape, output_shape)\n",
    "        w_list = self.init_w_list(w_shapes)\n",
    "        return w_list\n",
    "    \n",
    "    \n",
    "    def feedforward(self,input_, w_list, th):\n",
    "        hidden_raw = []\n",
    "        hidden_activated = []\n",
    "        x = input_\n",
    "        for i in range(len(hidden_shape)):\n",
    "            z = self.WxX(w_list[i],x)\n",
    "            hidden_raw.append(z)\n",
    "            hidden_activated.append(self.activation(z,th))\n",
    "            x = z\n",
    "\n",
    "        predict_raw = self.WxX(w_list[-1],hidden_activated[-1])\n",
    "        predict_activated = self.activation(predict_raw,th)\n",
    "\n",
    "        return hidden_raw, hidden_activated, predict_raw, predict_activated\n",
    "    \n",
    "    def predict(self, input_, w_list,th):\n",
    "        result = []\n",
    "        for x in input_:\n",
    "            result.append(self.feedforward(x, w_list,th)[-1])\n",
    "        return np.array(result).reshape(-1)\n",
    "    \n",
    "    \n",
    "    #### Low Level Functions ###\n",
    "    def w_shape_build(self,input_shape, hidden_shape, output_shape):\n",
    "        total_shape = [input_shape] + hidden_shape + [output_shape]\n",
    "        w_shapes= []\n",
    "        for i in zip(total_shape[1:], total_shape[:-1]):\n",
    "            w_shapes.append((i[0],i[1]+1))  # Note that the pluse one is for the bias term which is embedded into w matrix\n",
    "        return w_shapes\n",
    "\n",
    "    \n",
    "    def init_w_list(self,w_shapes):\n",
    "        w_list = []\n",
    "        for w in w_shapes:\n",
    "            w_list.append(np.random.random((w[0], w[1])))\n",
    "        return w_list\n",
    "    \n",
    "    \n",
    "    def WxX(self,w,x, activate = False):\n",
    "        result = w @ self.one_adder(x).reshape((-1,1))\n",
    "\n",
    "        if activate == True:\n",
    "            return self.activate(result.reshape(-1))\n",
    "\n",
    "        return result.reshape(-1)\n",
    "\n",
    "    def activation(self,z_,th=1.3, same_as_init = False):\n",
    "        \n",
    "        if same_as_init == True:\n",
    "            th = self.th\n",
    "            \n",
    "        z = z_.copy()\n",
    "        z[z<th] = 0\n",
    "        z[z>=th] = 1\n",
    "        return z\n",
    "\n",
    "    def one_adder(self,x):\n",
    "        return np.array([1] + x.tolist())\n",
    "    \n",
    "            "
   ]
  },
  {
   "cell_type": "markdown",
   "metadata": {},
   "source": [
    "## Defining the parameters of the model"
   ]
  },
  {
   "cell_type": "code",
   "execution_count": 299,
   "metadata": {},
   "outputs": [],
   "source": [
    "input_shape = 3\n",
    "output_shape = 1\n",
    "hidden_shape = [8]\n",
    "th = 4"
   ]
  },
  {
   "cell_type": "markdown",
   "metadata": {},
   "source": [
    "## Creating the dataset"
   ]
  },
  {
   "cell_type": "code",
   "execution_count": 316,
   "metadata": {},
   "outputs": [
    {
     "data": {
      "text/plain": [
       "array([[0, 0, 0],\n",
       "       [0, 0, 1],\n",
       "       [0, 1, 0],\n",
       "       [0, 1, 1],\n",
       "       [1, 0, 0],\n",
       "       [1, 0, 1],\n",
       "       [1, 1, 0],\n",
       "       [1, 1, 1]])"
      ]
     },
     "execution_count": 316,
     "metadata": {},
     "output_type": "execute_result"
    }
   ],
   "source": [
    "X = [(i//4,(i%4)//2,((i%4)%2)//1) for i in range(8)]\n",
    "X = np.array(X)\n",
    "X\n"
   ]
  },
  {
   "cell_type": "code",
   "execution_count": 301,
   "metadata": {},
   "outputs": [],
   "source": [
    "Y = [0,1,0,0,0,0,1,1]\n",
    "Y = np.array(Y)"
   ]
  },
  {
   "cell_type": "markdown",
   "metadata": {},
   "source": [
    "## Creating the model\n",
    "This section will create the model and initialize the weights matrix with random numbers"
   ]
  },
  {
   "cell_type": "code",
   "execution_count": 302,
   "metadata": {},
   "outputs": [],
   "source": [
    "model = Neural_Network(input_shape, hidden_shape, output_shape, th)"
   ]
  },
  {
   "cell_type": "markdown",
   "metadata": {},
   "source": [
    "## Fine Tuning the Weights matrix"
   ]
  },
  {
   "cell_type": "code",
   "execution_count": 303,
   "metadata": {},
   "outputs": [],
   "source": [
    "W = model.w_list.copy()"
   ]
  },
  {
   "cell_type": "code",
   "execution_count": 304,
   "metadata": {},
   "outputs": [
    {
     "data": {
      "text/plain": [
       "[array([[0.08664213, 0.72894515, 0.32590667, 0.55507009],\n",
       "        [0.0907546 , 0.43368803, 0.41474378, 0.62107825],\n",
       "        [0.12525472, 0.2629973 , 0.97138876, 0.24357252],\n",
       "        [0.85345192, 0.76424185, 0.65246254, 0.73168287],\n",
       "        [0.75541902, 0.11770481, 0.29968784, 0.88126495],\n",
       "        [0.98702617, 0.74119478, 0.46462907, 0.62163536],\n",
       "        [0.10695632, 0.73324012, 0.80564778, 0.90813546],\n",
       "        [0.72667696, 0.74759824, 0.38610956, 0.27289131]]),\n",
       " array([[0.62950825, 0.47245994, 0.29865551, 0.30046157, 0.86821538,\n",
       "         0.66413947, 0.97083089, 0.76812948, 0.01666012]])]"
      ]
     },
     "execution_count": 304,
     "metadata": {},
     "output_type": "execute_result"
    }
   ],
   "source": [
    "W"
   ]
  },
  {
   "cell_type": "code",
   "execution_count": 312,
   "metadata": {},
   "outputs": [],
   "source": [
    "W[0][:,:] = 0\n",
    "W[0][1,:] = np.array([0,-5,-5,5])\n",
    "W[0][6,:] = np.array([0,3,3,0])\n",
    "W[0][7,:] = np.array([0,2,2,1])\n",
    "W[1][:,:] = 0\n",
    "W[1][0,2] = 5\n",
    "W[1][0,7] = 5\n",
    "W[1][0,8] = 5\n"
   ]
  },
  {
   "cell_type": "code",
   "execution_count": 313,
   "metadata": {},
   "outputs": [
    {
     "data": {
      "text/plain": [
       "[array([[ 0.,  0.,  0.,  0.],\n",
       "        [ 0., -5., -5.,  5.],\n",
       "        [ 0.,  0.,  0.,  0.],\n",
       "        [ 0.,  0.,  0.,  0.],\n",
       "        [ 0.,  0.,  0.,  0.],\n",
       "        [ 0.,  0.,  0.,  0.],\n",
       "        [ 0.,  3.,  3.,  0.],\n",
       "        [ 0.,  2.,  2.,  1.]]), array([[0., 0., 5., 0., 0., 0., 0., 5., 5.]])]"
      ]
     },
     "execution_count": 313,
     "metadata": {},
     "output_type": "execute_result"
    }
   ],
   "source": [
    "model.w_list = W\n",
    "model.w_list"
   ]
  },
  {
   "cell_type": "markdown",
   "metadata": {},
   "source": [
    "## Evaluating the prediction of the Network"
   ]
  },
  {
   "cell_type": "code",
   "execution_count": 314,
   "metadata": {},
   "outputs": [
    {
     "data": {
      "text/plain": [
       "array([0., 1., 0., 0., 0., 0., 1., 1.])"
      ]
     },
     "execution_count": 314,
     "metadata": {},
     "output_type": "execute_result"
    }
   ],
   "source": [
    "model.predict(X, model.w_list,4)"
   ]
  },
  {
   "cell_type": "code",
   "execution_count": null,
   "metadata": {},
   "outputs": [],
   "source": []
  },
  {
   "cell_type": "code",
   "execution_count": null,
   "metadata": {},
   "outputs": [],
   "source": []
  },
  {
   "cell_type": "code",
   "execution_count": null,
   "metadata": {},
   "outputs": [],
   "source": []
  },
  {
   "cell_type": "code",
   "execution_count": null,
   "metadata": {},
   "outputs": [],
   "source": []
  },
  {
   "cell_type": "code",
   "execution_count": null,
   "metadata": {},
   "outputs": [],
   "source": []
  },
  {
   "cell_type": "code",
   "execution_count": 128,
   "metadata": {},
   "outputs": [],
   "source": [
    "\n"
   ]
  },
  {
   "cell_type": "code",
   "execution_count": null,
   "metadata": {},
   "outputs": [],
   "source": []
  },
  {
   "cell_type": "code",
   "execution_count": null,
   "metadata": {},
   "outputs": [],
   "source": []
  },
  {
   "cell_type": "code",
   "execution_count": null,
   "metadata": {},
   "outputs": [],
   "source": []
  },
  {
   "cell_type": "code",
   "execution_count": 134,
   "metadata": {},
   "outputs": [],
   "source": []
  },
  {
   "cell_type": "code",
   "execution_count": null,
   "metadata": {},
   "outputs": [],
   "source": []
  },
  {
   "cell_type": "code",
   "execution_count": 112,
   "metadata": {},
   "outputs": [],
   "source": []
  },
  {
   "cell_type": "code",
   "execution_count": 54,
   "metadata": {},
   "outputs": [],
   "source": []
  },
  {
   "cell_type": "code",
   "execution_count": 130,
   "metadata": {},
   "outputs": [],
   "source": []
  },
  {
   "cell_type": "code",
   "execution_count": 127,
   "metadata": {},
   "outputs": [],
   "source": []
  },
  {
   "cell_type": "code",
   "execution_count": null,
   "metadata": {},
   "outputs": [],
   "source": []
  },
  {
   "cell_type": "code",
   "execution_count": null,
   "metadata": {},
   "outputs": [],
   "source": []
  },
  {
   "cell_type": "code",
   "execution_count": 104,
   "metadata": {},
   "outputs": [],
   "source": [
    "test = [12]\n",
    "def Test(a):\n",
    "    a[0] = 32\n",
    "    return a\n",
    "    "
   ]
  },
  {
   "cell_type": "code",
   "execution_count": 106,
   "metadata": {},
   "outputs": [
    {
     "data": {
      "text/plain": [
       "[32]"
      ]
     },
     "execution_count": 106,
     "metadata": {},
     "output_type": "execute_result"
    }
   ],
   "source": [
    "Test(test)"
   ]
  },
  {
   "cell_type": "code",
   "execution_count": 108,
   "metadata": {},
   "outputs": [
    {
     "data": {
      "text/plain": [
       "[32]"
      ]
     },
     "execution_count": 108,
     "metadata": {},
     "output_type": "execute_result"
    }
   ],
   "source": [
    "tes"
   ]
  },
  {
   "cell_type": "code",
   "execution_count": null,
   "metadata": {},
   "outputs": [],
   "source": []
  }
 ],
 "metadata": {
  "kernelspec": {
   "display_name": "Python 3",
   "language": "python",
   "name": "python3"
  },
  "language_info": {
   "codemirror_mode": {
    "name": "ipython",
    "version": 3
   },
   "file_extension": ".py",
   "mimetype": "text/x-python",
   "name": "python",
   "nbconvert_exporter": "python",
   "pygments_lexer": "ipython3",
   "version": "3.7.6"
  }
 },
 "nbformat": 4,
 "nbformat_minor": 2
}
