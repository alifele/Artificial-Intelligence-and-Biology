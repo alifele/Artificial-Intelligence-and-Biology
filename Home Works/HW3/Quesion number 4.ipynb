{
 "cells": [
  {
   "cell_type": "code",
   "execution_count": 1,
   "metadata": {},
   "outputs": [],
   "source": [
    "import numpy as np\n",
    "import matplotlib.pyplot as plt"
   ]
  },
  {
   "cell_type": "markdown",
   "metadata": {},
   "source": [
    "## How to update the weights with hebbian learning\n",
    "\n",
    "to save the s:t pair in the network, the weights must be updated using the following rule\n",
    "\n",
    "$w_{j,i} = w_{j,i} + t_j s^{T}_i$ \n",
    "\n",
    "Note: $w_{j,i}$ indicates the edge connecting neuron i in input layer to neuron j in output layer\n",
    "\n",
    "So to write the above equation in a compact way we will have:\n",
    "\n",
    "$W = W + Y.X^T$\n",
    "\n",
    "In which $(X,Y)$ is the pair that we want to save in the network\n",
    "\n",
    "\n",
    "### Summary\n",
    "\n",
    "1. to add a s:t pair to the network, update the weights matrix with the following relations:\n",
    "\n",
    "$W = W + Y.X^T$\n",
    "\n",
    "2. to remove a s:t pair from the network, update the weights matirx with following realtion:\n",
    "\n",
    "$W = W + Y^c.X^T$\n",
    "\n",
    "in which $Y^c$ can be obtained by turning all of the 1's in the $Y$ to -1 and viceversa\n"
   ]
  },
  {
   "cell_type": "code",
   "execution_count": 130,
   "metadata": {},
   "outputs": [],
   "source": [
    "class Hebb():\n",
    "    def __init__(self, input_shape, output_shape):\n",
    "        self.input_shape = input_shape\n",
    "        self.output_shape = output_shape\n",
    "        self.w = self.Compile(input_shape, output_shape)\n",
    "    \n",
    "    \n",
    "    def fit(self, X, Y):\n",
    "        for elem in zip(X,Y):\n",
    "            self.update_w(elem[0], elem[1], self.w)\n",
    "            \n",
    "    \n",
    "    def remove(self,x,y):\n",
    "        self.update_w(-x, y, self.w)\n",
    "    \n",
    "    \n",
    "    def add(self, x,y):\n",
    "        self.update_w(x, y, self.w)\n",
    "        \n",
    "    def predict(self,X):\n",
    "        result = []\n",
    "        for x in X:\n",
    "            result.append(self.activate(self.WxX(self.w, x)))\n",
    "        \n",
    "        result = np.array(result)\n",
    "        \n",
    "        return result\n",
    "    \n",
    "    \n",
    "    #### Low Level Functions ####\n",
    "    \n",
    "    def Compile(self, input_shape, output_shape):\n",
    "        '''\n",
    "        this function will initialize the w_list matrix\n",
    "        the initial values will be zero\n",
    "        '''\n",
    "        w = np.zeros((output_shape, input_shape))\n",
    "        return w\n",
    "    \n",
    "    def update_w(self,x,y,w):\n",
    "        w += y.reshape((-1,1))@x.reshape((1,-1))\n",
    "    \n",
    "    \n",
    "    def activate(self,x):\n",
    "        x[x<0] = -1\n",
    "        x[x>0] = 1\n",
    "        x[x==0] = 0\n",
    "        return x\n",
    "        \n",
    "    def WxX(self,w,x):\n",
    "        result =  w @ x.reshape((-1,1))\n",
    "        return result.reshape(-1)"
   ]
  },
  {
   "cell_type": "code",
   "execution_count": 140,
   "metadata": {},
   "outputs": [],
   "source": [
    "X = [[1,0,0,0,1],[1,0,1,0,0],[1,1,0,1,0]]\n",
    "Y = [[1,0],[0,1],[1,0]]\n",
    "X = np.array(X)\n",
    "Y = np.array(Y)\n",
    "## Turning the data into bipolar representation\n",
    "\n",
    "X[X==0] = -1\n",
    "Y[Y==0] = -1"
   ]
  },
  {
   "cell_type": "markdown",
   "metadata": {},
   "source": [
    "### Answer to section a:"
   ]
  },
  {
   "cell_type": "code",
   "execution_count": 141,
   "metadata": {},
   "outputs": [],
   "source": [
    "input_shape = 5\n",
    "output_shape = 2"
   ]
  },
  {
   "cell_type": "code",
   "execution_count": 142,
   "metadata": {},
   "outputs": [],
   "source": [
    "model = Hebb(input_shape, output_shape)"
   ]
  },
  {
   "cell_type": "code",
   "execution_count": 143,
   "metadata": {},
   "outputs": [],
   "source": [
    "model.fit(X,Y)"
   ]
  },
  {
   "cell_type": "code",
   "execution_count": 145,
   "metadata": {},
   "outputs": [
    {
     "data": {
      "text/plain": [
       "array([[ 1., -1.],\n",
       "       [-1.,  1.],\n",
       "       [ 1., -1.]])"
      ]
     },
     "execution_count": 145,
     "metadata": {},
     "output_type": "execute_result"
    }
   ],
   "source": [
    "model.predict(X)"
   ]
  },
  {
   "cell_type": "markdown",
   "metadata": {},
   "source": [
    "### answer to section b:\n",
    "\n",
    "Since the input and output of the network is not the same, so the network is Hetero (Not Auto)"
   ]
  },
  {
   "cell_type": "markdown",
   "metadata": {},
   "source": [
    "### answer to section c\n",
    "\n",
    "to remove a s:t pair from the network, update the weights matirx with following realtion:\n",
    "\n",
    "$W = W + Y^c.X^T$\n",
    "\n",
    "in which $Y^c$ can be obtained by turning all of the 1's in the $Y$ to -1 and viceversa\n"
   ]
  },
  {
   "cell_type": "code",
   "execution_count": 146,
   "metadata": {},
   "outputs": [],
   "source": [
    "model.remove(X[1], Y[1])"
   ]
  },
  {
   "cell_type": "code",
   "execution_count": 147,
   "metadata": {},
   "outputs": [
    {
     "data": {
      "text/plain": [
       "array([[ 1., -1.],\n",
       "       [ 0.,  0.],\n",
       "       [ 1., -1.]])"
      ]
     },
     "execution_count": 147,
     "metadata": {},
     "output_type": "execute_result"
    }
   ],
   "source": [
    "model.predict(X)"
   ]
  },
  {
   "cell_type": "markdown",
   "metadata": {},
   "source": [
    "you see that the second s:t pair is removed"
   ]
  },
  {
   "cell_type": "code",
   "execution_count": null,
   "metadata": {},
   "outputs": [],
   "source": []
  }
 ],
 "metadata": {
  "kernelspec": {
   "display_name": "Python 3",
   "language": "python",
   "name": "python3"
  },
  "language_info": {
   "codemirror_mode": {
    "name": "ipython",
    "version": 3
   },
   "file_extension": ".py",
   "mimetype": "text/x-python",
   "name": "python",
   "nbconvert_exporter": "python",
   "pygments_lexer": "ipython3",
   "version": "3.7.6"
  }
 },
 "nbformat": 4,
 "nbformat_minor": 2
}
